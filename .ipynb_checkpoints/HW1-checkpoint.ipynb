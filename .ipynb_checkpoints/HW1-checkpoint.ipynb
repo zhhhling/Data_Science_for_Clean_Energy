{
 "cells": [
  {
   "cell_type": "markdown",
   "metadata": {},
   "source": [
    "### HW Assignment 1 for DSMCER\n",
    "\n",
    "* Overview: This HW assignment is primarily designed to introduce you to some aspects of Data Science.  A secondary goal of the HW assignment is to get practice with git, GitHub classroom and related tools you will be using in both classes. \n",
    "* Instructions: \n",
    "    * Check out this jupyter notebook from GitHub classroom (if you are reading this, you probably did it). If you had a friend give you the python notebook, stop now and figure out how to get the correct starter code from GitHub classroom.\n",
    "    * Do the assigned reading for DSM-CER (The Data Science review article by Beck et al.).  If you have any lingering questions, enter them in the appropriate cell below, in markdown format and colored in <font color='red'>_red text_</font>\n",
    "    * Find a research paper related to your own research area, or a research area of interest that is at the intersection of materials/chemicals science/engineering and Data Science. In the appropriate cell below, add the correct <a href=\"http://google.com\" target=\"_blank\">link to the paper</a> so that we can find it. \n",
    "        * If you cannot find a paper you want to read you can look for papers related to Materials Genome Initative, The Materials Project, Harvard Clean Energy Project, The Open Quantum Materials Database, or references from Part 1.  \n",
    "            * _If you still can't find a paper, talk to us on Slack or come to office hours_\n",
    "                * **_If you still can't find a paper, I am out of suggestions_**\n",
    "    * Write a brief (200 words or fewer) summary of the paper, making sure to note the methods that were used as well as how the authors addressed one or more data-related challenges \n",
    "    * Turn in the completed python notebook using GitHub classroom"
   ]
  },
  {
   "cell_type": "markdown",
   "metadata": {},
   "source": [
    "## Part 1\n",
    "Any questions from reading Beck et. al?"
   ]
  },
  {
   "cell_type": "markdown",
   "metadata": {},
   "source": [
    "<font color='red'>No questions.</font>"
   ]
  },
  {
   "cell_type": "markdown",
   "metadata": {},
   "source": [
    "## Part 2 \n",
    "Provide the full details of the paper you found here. Use markdown to format it smartly and provide the link as requested"
   ]
  },
  {
   "cell_type": "markdown",
   "metadata": {},
   "source": [
    "**Paper Title:**\n",
    "Big data analytics in smart grids: a review\n",
    "\n",
    "**Link:**\n",
    "<a href=\"https://energyinformatics.springeropen.com/articles/10.1186/s42162-018-0007-5#Sec9\">to my paper</a>"
   ]
  },
  {
   "cell_type": "markdown",
   "metadata": {},
   "source": [
    "## Part 3 \n",
    "Provide your brief summary here in markdown format. Please make every effort that it is free from typos and grammatical mistakes. Excessive typos or basic grammatical mistakes (i.e., that interfere with readability) will be marked down (no pun) 15%. There are Jupyter plug-ins that can do spell-check, but if you are concerned it might be faster to just copy-paste your summary and then format it correctly."
   ]
  },
  {
   "cell_type": "markdown",
   "metadata": {},
   "source": [
    "This paper reviews applications of data analytics techniques in smart grids.\n",
    "\n",
    "**Motivation**: Due to an additional information layer is added to the electricity transmission and distribution networks, massive datasets at different time resolutions are collected, encoding customers' electricity consumption information and the status of power systems. These data sources together with meteorological, geographical, economic and social media data can provide rich information. As a result, big data analytics techniques are applied to extract information from massive datasets to facilitate decisions made in maintaining and operating power systems. \n",
    "\n",
    "**Data Analytics in Smart Grids**: This paper discusses eleven applications of big data analytics in smart grids, from fault detection, state estimation to renewable energy forecasting and load forecasting. It is worth noting that, with high-level penetration of renewable energy resources, more uncertainties are brought into power systems. As a result, accurate forecasting of renewable energy generators' output and electricity consumption are extremely important to the stability of power systems.\n",
    "\n",
    "**Data Analytics Procedure**: Typically, in each application, feature engineering is performed first to extract features from the dataset. Since most data coming from power systems are very high-dimentional time-series data, classical signal processing techniques, such as wavelet transformations, are often used in feature engineering to  extract statistical features. After that, machine learning methods, such as k-means, support vector machine (SVM), artificial neural network (ANN), decision trees (DT) as well as deep learning techniques are used for classification or prediction."
   ]
  },
  {
   "cell_type": "code",
   "execution_count": null,
   "metadata": {},
   "outputs": [],
   "source": []
  }
 ],
 "metadata": {
  "kernelspec": {
   "display_name": "Python 3",
   "language": "python",
   "name": "python3"
  },
  "language_info": {
   "codemirror_mode": {
    "name": "ipython",
    "version": 3
   },
   "file_extension": ".py",
   "mimetype": "text/x-python",
   "name": "python",
   "nbconvert_exporter": "python",
   "pygments_lexer": "ipython3",
   "version": "3.6.6"
  }
 },
 "nbformat": 4,
 "nbformat_minor": 1
}
